{
  "nbformat": 4,
  "nbformat_minor": 0,
  "metadata": {
    "colab": {
      "provenance": [],
      "machine_shape": "hm",
      "authorship_tag": "ABX9TyMjuliXFid2GMA9rqSPq8ok",
      "include_colab_link": true
    },
    "kernelspec": {
      "name": "ir",
      "display_name": "R"
    },
    "language_info": {
      "name": "R"
    },
    "accelerator": "GPU",
    "gpuClass": "premium"
  },
  "cells": [
    {
      "cell_type": "markdown",
      "metadata": {
        "id": "view-in-github",
        "colab_type": "text"
      },
      "source": [
        "<a href=\"https://colab.research.google.com/github/suhayb-h/BioinfoRmatics/blob/main/Bioinformatics.ipynb\" target=\"_parent\"><img src=\"https://colab.research.google.com/assets/colab-badge.svg\" alt=\"Open In Colab\"/></a>"
      ]
    },
    {
      "cell_type": "markdown",
      "source": [
        "# Seurat in CoLab\n",
        "\n",
        "Right now this notebook serves as an exploratory endeavor to familiarize myself with R and cellular data.\n",
        "\n",
        "We need to first ensure R is fully compatible with Google Drive moving forward. Let's start by ensuring that this notebook can access Google Drive. This is a slightly more involved process than in Python."
      ],
      "metadata": {
        "id": "weCCoyH9U1bD"
      }
    },
    {
      "cell_type": "markdown",
      "source": [
        "# Compatibility"
      ],
      "metadata": {
        "id": "MsGCx_zzk3Bq"
      }
    },
    {
      "cell_type": "code",
      "execution_count": 4,
      "metadata": {
        "id": "SULtMJuHUvXw",
        "outputId": "9d64719c-d7f8-4b7c-8d2f-df09a8bdf81e",
        "colab": {
          "base_uri": "https://localhost:8080/",
          "height": 34
        }
      },
      "outputs": [
        {
          "output_type": "display_data",
          "data": {
            "text/html": [
              "'R version 4.2.2 Patched (2022-11-10 r83330)'"
            ],
            "text/markdown": "'R version 4.2.2 Patched (2022-11-10 r83330)'",
            "text/latex": "'R version 4.2.2 Patched (2022-11-10 r83330)'",
            "text/plain": [
              "[1] \"R version 4.2.2 Patched (2022-11-10 r83330)\""
            ]
          },
          "metadata": {}
        }
      ],
      "source": [
        "# What is the latest version of R that CoLab Runs?\n",
        "R.version.string"
      ]
    },
    {
      "cell_type": "code",
      "source": [
        "# Let's try to get Google drive compatiblity, which might be neccessary to read cell data\n",
        "install.packages(\"googledrive\")\n",
        "library(\"googledrive\")"
      ],
      "metadata": {
        "id": "pFF6BZ9g1yKy",
        "outputId": "4fd9fb2b-2277-44d8-f088-a20f189786b8",
        "colab": {
          "base_uri": "https://localhost:8080/"
        }
      },
      "execution_count": 5,
      "outputs": [
        {
          "output_type": "stream",
          "name": "stderr",
          "text": [
            "Installing package into ‘/usr/local/lib/R/site-library’\n",
            "(as ‘lib’ is unspecified)\n",
            "\n"
          ]
        }
      ]
    },
    {
      "cell_type": "code",
      "source": [
        "# Let's install Seurat\n",
        "install.packages(\"Seurat\")"
      ],
      "metadata": {
        "id": "Xr1H-VdF5VTS",
        "outputId": "6891127a-3fc5-4212-a0e7-5f395ad5548a",
        "colab": {
          "base_uri": "https://localhost:8080/"
        }
      },
      "execution_count": 6,
      "outputs": [
        {
          "output_type": "stream",
          "name": "stderr",
          "text": [
            "Installing package into ‘/usr/local/lib/R/site-library’\n",
            "(as ‘lib’ is unspecified)\n",
            "\n"
          ]
        }
      ]
    },
    {
      "cell_type": "code",
      "source": [
        "# Let's download the file from our google drive\n",
        "drive_download(\"stuff/pbmc3k_filtered_gene_bc_matrices.tar.gz\")"
      ],
      "metadata": {
        "id": "H0pysEcu4PBj"
      },
      "execution_count": null,
      "outputs": []
    },
    {
      "cell_type": "code",
      "source": [
        "# authorize google drive\n",
        "drive_auth(\n",
        "  email = gargle::gargle_oauth_email(),\n",
        "  path = NULL,\n",
        "  scopes = \"https://www.googleapis.com/auth/drive\",\n",
        "  cache = gargle::gargle_oauth_cache(),\n",
        "  use_oob = gargle::gargle_oob_default(),\n",
        "  token = NULL\n",
        ")"
      ],
      "metadata": {
        "id": "wVTRMIXo2ANv",
        "outputId": "931e7278-57e8-4b86-fa07-79057d1f64e6",
        "colab": {
          "base_uri": "https://localhost:8080/",
          "height": 454
        }
      },
      "execution_count": 8,
      "outputs": [
        {
          "output_type": "error",
          "ename": "ERROR",
          "evalue": "ignored",
          "traceback": [
            "\u001b[1m\u001b[33mError\u001b[39m in `drive_auth()`:\u001b[22m\n\u001b[1m\u001b[22m\u001b[33m!\u001b[39m Can't get Google credentials\n\u001b[36mℹ\u001b[39m Are you running googledrive in a non-interactive session? Consider:\n\u001b[36m•\u001b[39m `drive_deauth()` to prevent the attempt to get credentials\n\u001b[36m•\u001b[39m Call `drive_auth()` directly with all necessary specifics\n\u001b[36mℹ\u001b[39m See gargle's \"Non-interactive auth\" vignette for more details:\n\u001b[36mℹ\u001b[39m \u001b[3m\u001b[34m<https://gargle.r-lib.org/articles/non-interactive-auth.html>\u001b[39m\u001b[23m\nTraceback:\n",
            "1. drive_auth(email = gargle::gargle_oauth_email(), path = NULL, \n .     scopes = \"https://www.googleapis.com/auth/drive\", cache = gargle::gargle_oauth_cache(), \n .     use_oob = gargle::gargle_oob_default(), token = NULL)",
            "2. drive_abort(c(\"Can't get Google credentials\", i = \"Are you running googledrive in a non-interactive session? \\\\\\n             Consider:\", \n .     `*` = \"{.fun drive_deauth} to prevent the attempt to get credentials\", \n .     `*` = \"Call {.fun drive_auth} directly with all necessary specifics\", \n .     i = \"See gargle's \\\"Non-interactive auth\\\" vignette for more details:\", \n .     i = \"{.url https://gargle.r-lib.org/articles/non-interactive-auth.html}\"))",
            "3. cli::cli_abort(message = message, ..., .envir = .envir)",
            "4. rlang::abort(message, ..., call = call, use_cli_format = TRUE, \n .     .frame = .frame)",
            "5. signal_abort(cnd, .file)"
          ]
        }
      ]
    },
    {
      "cell_type": "code",
      "source": [
        "# Check if is running in Colab and redefine is_interactive()\n",
        "if (file.exists(\"/usr/local/lib/python3.6/dist-packages/google/colab/_ipython.py\")) {\n",
        "  install.packages(\"R.utils\")\n",
        "  library(\"R.utils\")\n",
        "  library(\"httr\")\n",
        "  my_check <- function() {return(TRUE)}\n",
        "  reassignInPackage(\"is_interactive\", pkgName = \"httr\", my_check) \n",
        "  options(rlang_interactive=TRUE)\n",
        "}"
      ],
      "metadata": {
        "id": "5z4xCnue2Px5"
      },
      "execution_count": 9,
      "outputs": []
    },
    {
      "cell_type": "code",
      "source": [
        "drive_auth(use_oob = TRUE, cache = TRUE)"
      ],
      "metadata": {
        "id": "020QLzLw2KrC",
        "outputId": "35c96798-33bc-45af-9328-938f6caab06e",
        "colab": {
          "base_uri": "https://localhost:8080/",
          "height": 419
        }
      },
      "execution_count": 10,
      "outputs": [
        {
          "output_type": "error",
          "ename": "ERROR",
          "evalue": "ignored",
          "traceback": [
            "\u001b[1m\u001b[33mError\u001b[39m in `drive_auth()`:\u001b[22m\n\u001b[1m\u001b[22m\u001b[33m!\u001b[39m Can't get Google credentials\n\u001b[36mℹ\u001b[39m Are you running googledrive in a non-interactive session? Consider:\n\u001b[36m•\u001b[39m `drive_deauth()` to prevent the attempt to get credentials\n\u001b[36m•\u001b[39m Call `drive_auth()` directly with all necessary specifics\n\u001b[36mℹ\u001b[39m See gargle's \"Non-interactive auth\" vignette for more details:\n\u001b[36mℹ\u001b[39m \u001b[3m\u001b[34m<https://gargle.r-lib.org/articles/non-interactive-auth.html>\u001b[39m\u001b[23m\nTraceback:\n",
            "1. drive_auth(use_oob = TRUE, cache = TRUE)",
            "2. drive_abort(c(\"Can't get Google credentials\", i = \"Are you running googledrive in a non-interactive session? \\\\\\n             Consider:\", \n .     `*` = \"{.fun drive_deauth} to prevent the attempt to get credentials\", \n .     `*` = \"Call {.fun drive_auth} directly with all necessary specifics\", \n .     i = \"See gargle's \\\"Non-interactive auth\\\" vignette for more details:\", \n .     i = \"{.url https://gargle.r-lib.org/articles/non-interactive-auth.html}\"))",
            "3. cli::cli_abort(message = message, ..., .envir = .envir)",
            "4. rlang::abort(message, ..., call = call, use_cli_format = TRUE, \n .     .frame = .frame)",
            "5. signal_abort(cnd, .file)"
          ]
        }
      ]
    },
    {
      "cell_type": "code",
      "source": [],
      "metadata": {
        "id": "wve_ZAnt2Vc7"
      },
      "execution_count": null,
      "outputs": []
    }
  ]
}